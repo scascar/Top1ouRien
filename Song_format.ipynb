{
 "cells": [
  {
   "cell_type": "code",
   "execution_count": 2,
   "metadata": {
    "collapsed": true
   },
   "outputs": [],
   "source": [
    "import pandas as pd\n",
    "import numpy as np"
   ]
  },
  {
   "cell_type": "code",
   "execution_count": 4,
   "metadata": {},
   "outputs": [],
   "source": [
    "#can be reused for other scripts\n",
    "def load_dataset(input_file,folder = \"dataset/\"):\n",
    "    return pd.read_csv(folder+input_file)"
   ]
  },
  {
   "cell_type": "code",
   "execution_count": 21,
   "metadata": {},
   "outputs": [],
   "source": [
    "songs = load_dataset('songs.csv')\n",
    "songs_extra = load_dataset('song_extra_info.csv')\n",
    "#useless feature\n",
    "#Only the name of the songs are relevant in songs_extra, add the name to the songs df\n",
    "del songs_extra['isrc']\n",
    "songs = songs.set_index('song_id').join(songs_extra.set_index('song_id'))\n",
    "#delete songs_extra\n",
    "del songs_extra"
   ]
  },
  {
   "cell_type": "code",
   "execution_count": 27,
   "metadata": {},
   "outputs": [],
   "source": [
    "songs.to_csv('dataset/fomated_songs.csv')\n",
    "#you can delete songs.csv and song_extra_info.csv"
   ]
  }
 ],
 "metadata": {
  "kernelspec": {
   "display_name": "Python 3",
   "language": "python",
   "name": "python3"
  },
  "language_info": {
   "codemirror_mode": {
    "name": "ipython",
    "version": 3
   },
   "file_extension": ".py",
   "mimetype": "text/x-python",
   "name": "python",
   "nbconvert_exporter": "python",
   "pygments_lexer": "ipython3",
   "version": "3.6.2"
  }
 },
 "nbformat": 4,
 "nbformat_minor": 2
}
